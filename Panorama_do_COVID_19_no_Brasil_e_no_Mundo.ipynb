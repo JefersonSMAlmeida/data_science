{
  "nbformat": 4,
  "nbformat_minor": 0,
  "metadata": {
    "colab": {
      "name": "Panorama do COVID-19 no Brasil e no Mundo.ipynb",
      "provenance": [],
      "collapsed_sections": [],
      "include_colab_link": true
    },
    "kernelspec": {
      "name": "python3",
      "display_name": "Python 3"
    }
  },
  "cells": [
    {
      "cell_type": "markdown",
      "metadata": {
        "id": "view-in-github",
        "colab_type": "text"
      },
      "source": [
        "<a href=\"https://colab.research.google.com/github/JefersonSMAlmeida/portifolio_data_science/blob/main/Panorama_do_COVID_19_no_Brasil_e_no_Mundo.ipynb\" target=\"_parent\"><img src=\"https://colab.research.google.com/assets/colab-badge.svg\" alt=\"Open In Colab\"/></a>"
      ]
    },
    {
      "cell_type": "markdown",
      "metadata": {
        "id": "-eFQZydM9O9J"
      },
      "source": [
        "<img alt=\"Colaboratory logo\" width=\"15%\" src=\"https://raw.githubusercontent.com/carlosfab/escola-data-science/master/img/novo_logo_bg_claro.png\">\n",
        "\n",
        "#### **Data Science na Prática 3.0**\n",
        "*by [sigmoidal.ai](https://sigmoidal.ai)*  \n",
        "\n",
        "---\n",
        "  "
      ]
    },
    {
      "cell_type": "markdown",
      "metadata": {
        "id": "kLI0gJtzDGuQ"
      },
      "source": [
        "# Panorama do COVID-19 no Brasil\n",
        "\n",
        "A Covid-19 é uma infecção respiratória aguda causada pelo coronavírus SARS-CoV-2, potencialmente grave, de elevada transmissibilidade e de distribuição global.\n",
        "\n",
        "A maioria das pessoas que adoece em decorrência da COVID-19 apresenta sintomas leves a moderados e se recupera sem tratamento especial. No entanto, algumas desenvolvem um quadro grave e precisam de atendimento médico.\n",
        "\n",
        "<center><img alt=\"Colaboratory logo\" width=\"70%\" src=\"https://images.unsplash.com/photo-1583324113626-70df0f4deaab?ixlib=rb-1.2.1&ixid=MnwxMjA3fDB8MHxwaG90by1wYWdlfHx8fGVufDB8fHx8&auto=format&fit=crop&w=1032&q=80\"></center>\n",
        "\n",
        "Até o presente momento, observa-se que cerca de 80% dos casos confirmados são assintomáticos e rápidos. A maioria das pessoas que se encaixam nesse grupo, se recupera sem nenhuma sequela.\n",
        "\n",
        "No entanto, 15% das pessoas terão infecções graves e precisarão de oxigênio. O restante das pessoas, que representam 5%, serão classificadas como infecções muito graves e precisarão de ventilação assistida, por meio de respiradores mecânicos em ambiente hospitalar.\n",
        "\n",
        "Com o objetivo de elevar a consciência situacional a respeito do COVID-19 no Brasil, irei realizar uma análise sobre os dados públicos da doença."
      ]
    },
    {
      "cell_type": "markdown",
      "metadata": {
        "id": "0zxQHhIUDF_2"
      },
      "source": [
        "## Obtenção dos Dados\n",
        "\n",
        "Para a nossa análise, vou utilizar a base do ourworldindata.org, que em parceria com a Universidade de Oxford, realiza a coleta de dados sobre casos confirmados, mortes, hospitalizações, testes, vacinas e outras variáveis de potencial interesse pelo mundo.\n",
        "\n",
        "Por se tratar de uma doença muito recente, com sintomas parecidos com a gripe e de fácil transmissão, torna o trabalho de análise dos dados mais complexa. Um dos exemplos é de conflitos entre os dados do governo federal, estadual e dados não oficiais.\n",
        "\n",
        "### Dicionário de Variáveis\n",
        "Para começar o trabalho de análise, vamos pegar o dicionário de variáveis existentes dentro dessa base.\n",
        "\n",
        "\n",
        "*   `iso_code` -\tISO 3166-1 alpha-3 – códigos de país de três letras;\n",
        "*   `continent`\t-  Continente da localização geográfica;\n",
        "*   `location` -\tLocalização geográfica;\n",
        "*   `date` -\tData da observação;\n",
        "*   `total_cases` -\tTotal de casos confirmados de COVID-19;\n",
        "*   `new_cases` -\tNovos casos confirmados de COVID-19;\n",
        "*   `new_cases_smoothed` -\tNovos casos confirmados de COVID-19 (suavizado em 7 dias);\n",
        "*   `total_deaths` -\tTotal de mortes atribuídas ao COVID-19;\n",
        "*   `new_deaths` -\tNovas mortes atribuídas ao COVID-19;\n",
        "*   `new_deaths_smoothed` -\tNovas mortes atribuídas ao COVID-19 (suavizado de 7 dias);\n",
        "*   `total_cases_per_million` -\tTotal de casos confirmados de COVID-19 por 1.000.000 de pessoas;\n",
        "*   `new_cases_per_million` -\tNovos casos confirmados de COVID-19 por 1.000.000 de pessoas;\n",
        "*   `new_cases_smoothed_per_million` -\tNovos casos confirmados de COVID-19 (suavizado em 7 dias) por 1.000.000 de pessoas;\n",
        "*   `total_deaths_per_million` -\tTotal de mortes atribuídas ao COVID-19 por 1.000.000 de pessoas;\n",
        "*   `new_deaths_per_million` -\tNovas mortes atribuídas ao COVID-19 por 1.000.000 de pessoas;\n",
        "*   `new_deaths_smoothed_per_million` -\tNovas mortes atribuídas ao COVID-19 (suavizado de 7 dias) por 1.000.000 de pessoas;\n",
        "*   `reproduction_rate` -\tEstimativa em tempo real da taxa efetiva de reprodução (R) do COVID-19. Veja https://github.com/crondonm/TrackingR/tree/main/Estimates-Database;\n",
        "*   `icu_patients` -\tNúmero de pacientes com COVID-19 em unidades de terapia intensiva (UTIs) em um determinado dia;\n",
        "*   `icu_patients_per_million` -\tNúmero de pacientes com COVID-19 em unidades de terapia intensiva (UTIs) em um determinado dia por 1.000.000 pessoas;\n",
        "*   `hosp_patients` -\tNúmero de pacientes com COVID-19 no hospital em um determinado dia;\n",
        "*   `hosp_patients_per_million` -\tNúmero de pacientes com COVID-19 no hospital em um determinado dia por 1.000.000 de pessoas;\n",
        "*   `weekly_icu_admissions` -\tNúmero de pacientes com COVID-19 recém-admitidos em unidades de terapia intensiva (UTIs) em uma determinada semana;\n",
        "*   `weekly_icu_admissions_per_million` -\tNúmero de pacientes com COVID-19 recém-admitidos em unidades de terapia intensiva (UTIs) em uma determinada semana por 1.000.000 de pessoas;\n",
        "*   `weekly_hosp_admissions` -\tNúmero de pacientes com COVID-19 recém-admitidos em hospitais em uma determinada semana;\n",
        "*   `weekly_hosp_admissions_per_million` -\tNúmero de pacientes com COVID-19 recém-admitidos em hospitais em uma determinada semana por 1.000.000 de pessoas;\n",
        "*   `total_tests` -\tTotal de testes para COVID-19;\n",
        "*   `new_tests` -\tNovos testes para COVID-19 (calculado apenas para dias consecutivos);\n",
        "*   `total_tests_per_thousand` -\tTotal de testes para COVID-19 por 1.000 pessoas;\n",
        "*   `new_tests_per_thousand` -\tNovos testes para COVID-19 por 1.000 pessoas;\n",
        "*   `new_tests_smoothed` -\tNovos testes para COVID-19 (suavizado de 7 dias). Para países que não relatam dados de teste diariamente, assumimos que os testes mudaram igualmente diariamente em todos os períodos em que nenhum dado foi relatado. Isso produz uma série completa de números diários, que são então calculados em uma janela contínua de 7 dias;\n",
        "*   `new_tests_smoothed_per_thousand` -\tNovos testes para COVID-19 (suavizado de 7 dias) por 1.000 pessoas;\n",
        "*   `positive_rate` -\tA parcela de testes COVID-19 positivos, dada como uma média contínua de 7 dias (este é o inverso de tests_per_case);\n",
        "*   `tests_per_case` -\tTestes realizados por novo caso confirmado de COVID-19, dados como uma média contínua de 7 dias (este é o inverso de positive_rate);\n",
        "*   `tests_units` -\tUnidades usadas pelo local para relatar seus dados de teste;\n",
        "*   `total_vaccinations` -\tNúmero total de doses de vacinação COVID-19 administradas;\n",
        "*   `people_vaccinated` -\tNúmero total de pessoas que receberam pelo menos uma dose de vacina;\n",
        "*   `people_fully_vaccinated` -\tNúmero total de pessoas que receberam todas as doses prescritas pelo protocolo de vacinação;\n",
        "*   `total_boosters` -\tNúmero total de doses de reforço de vacinação COVID-19 administradas (doses administradas além do número prescrito pelo protocolo de vacinação);\n",
        "*   `new_vaccinations` -\tNovas doses de vacinação COVID-19 administradas (calculadas apenas para dias consecutivos);\n",
        "*   `new_vaccinations_smoothed` -\tNovas doses de vacinação COVID-19 administradas (suavizado por 7 dias). Para países que não relatam dados de vacinação diariamente, assumimos que a vacinação mudou igualmente diariamente em todos os períodos em que nenhum dado foi relatado. Isso produz uma série completa de números diários, que são então calculados em uma janela contínua de 7 dias;\n",
        "*   `total_vaccinations_per_hundred` -\tNúmero total de doses de vacinação COVID-19 administradas por 100 pessoas na população total;\n",
        "*   `people_vaccinated_per_hundred` -\tNúmero total de pessoas que receberam pelo menos uma dose de vacina por 100 pessoas na população total;\n",
        "*   `people_fully_vaccinated_per_hundred` -\tNúmero total de pessoas que receberam todas as doses prescritas pelo protocolo de vacinação por 100 pessoas na população total;\n",
        "*   `total_boosters_per_hundred` -\tNúmero total de doses de reforço de vacinação COVID-19 administradas por 100 pessoas na população total;\n",
        "*   `new_vaccinations_smoothed_per_million` -\tNovas doses de vacinação COVID-19 administradas (suavizadas em 7 dias) por 1.000.000 de pessoas na população total;\n",
        "*   `new_people_vaccinated_smoothed` -\tNúmero diário de pessoas que recebem sua primeira dose de vacina (suavizado de 7 dias);\n",
        "*   `new_people_vaccinated_smoothed_per_hundred` -\tNúmero diário de pessoas que recebem sua primeira dose de vacina (suavizado de 7 dias) por 100 pessoas na população total;\n",
        "*   `stringency_index` -\tÍndice de Rigidez de Resposta do Governo: medida composta com base em 9 indicadores de resposta, incluindo fechamento de escolas, fechamento de locais de trabalho e proibição de viagens, reescalonado para um valor de 0 a 100 (100 = resposta mais rigorosa);\n",
        "*   `population` -\tPopulação (últimos valores disponíveis). Consulte https://github.com/owid/covid-19-data/blob/master/scripts/input/un/population_latest.csv para obter a lista completa de fontes;\n",
        "*   `population_density` -\tNúmero de pessoas dividido por área de terra, medido em quilômetros quadrados, ano mais recente disponível;\n",
        "*   `median_age` -\tIdade média da população, projeção da ONU para 2020;\n",
        "*   `aged_65_older` -\tParcela da população com 65 anos ou mais, ano mais recente disponível;\n",
        "*   `aged_70_older` -\tParcela da população com 70 anos ou mais em 2015;\n",
        "*   `gdp_per_capita` -\tProduto interno bruto em paridade de poder de compra (dólares internacionais constantes de 2011), ano mais recente disponível;\n",
        "*   `extreme_poverty` -\tPercentual da população que vive em extrema pobreza, ano mais recente disponível desde 2010;\n",
        "*   `cardiovasc_death_rate` -\tTaxa de mortalidade por doença cardiovascular em 2017 (número anual de mortes por 100.000 pessoas);\n",
        "*   `diabetes_prevalence` -\tPrevalência de diabetes (% da população de 20 a 79 anos) em 2017;\n",
        "*   `female_smokers` -\tProporção de mulheres que fumam, ano mais recente disponível;\n",
        "*   `male_smokers` -\tProporção de homens que fumam, ano mais recente disponível;\n",
        "*   `handwashing_facilities` -\tPercentagem da população com instalações básicas de lavagem das mãos nas instalações, ano mais recente disponível;\n",
        "*   `hospital_beds_per_thousand` -\tCamas hospitalares por 1.000 pessoas, ano mais recente disponível desde 2010;\n",
        "*   `life_expectancy` -\tExpectativa de vida ao nascer em 2019;\n",
        "*   `human_development_index` -\tUm índice composto que mede o desempenho médio em três dimensões básicas do desenvolvimento humano – uma vida longa e saudável, conhecimento e um padrão de vida decente. Valores para 2019, importados de http://hdr.undp.org/en/indicators/137506;\n",
        "*   `excess_mortality` -\tDiferença percentual entre o número relatado de mortes semanais ou mensais em 2020-2021 e o número projetado de mortes para o mesmo período com base em anos anteriores. Para obter mais informações, consulte https://github.com/owid/covid-19-data/tree/master/public/data/excess_mortality;\n",
        "*   `excess_mortality_cumulative` -\tDiferença percentual entre o número acumulado de mortes desde 1 de janeiro de 2020 e as mortes cumulativas projetadas para o mesmo período com base em anos anteriores. Para obter mais informações, consulte https://github.com/owid/covid-19-data/tree/master/public/data/excess_mortality;\n",
        "*   `excess_mortality_cumulative_absolute` - Diferença cumulativa entre o número relatado de óbitos desde 1º de janeiro de 2020 e o número projetado de óbitos para o mesmo período com base em anos anteriores. Para obter mais informações, consulte https://github.com/owid/covid-19-data/tree/master/public/data/excess_mortality;\n",
        "*   `excess_mortality_cumulative_per_million` -\tDiferença cumulativa entre o número relatado de mortes desde 1º de janeiro de 2020 e o número projetado de mortes para o mesmo período com base em anos anteriores, por milhão de pessoas. Para obter mais informações, consulte https://github.com/owid/covid-19-data/tree/master/public/data/excess_mortality;\n",
        "\n",
        "\n"
      ]
    },
    {
      "cell_type": "markdown",
      "source": [
        "### Importando os dados do COVID-19\n",
        "\n",
        "Hora de importar a base em csv do OWID e das bibliotecas necessárias para a análise."
      ],
      "metadata": {
        "id": "13Rn9vnGkxdO"
      }
    },
    {
      "cell_type": "code",
      "metadata": {
        "id": "lOtEJxe0DMEb"
      },
      "source": [
        "# importar as bibliotecas necessárias\n",
        "import pandas as pd\n",
        "import matplotlib.pyplot as plt\n",
        "import datetime as datetime\n",
        "\n",
        "# importar o dataset COVID-19 para um DataaFrame\n",
        "df = pd.read_csv(\"https://covid.ourworldindata.org/data/owid-covid-data.csv\")"
      ],
      "execution_count": 5,
      "outputs": []
    },
    {
      "cell_type": "markdown",
      "source": [
        "## Análise Exploratória dos Dados\n",
        "\n",
        "Vamos iniciar as nossas análises, antes de tudo, é necessário conhecer um pouco da base que vamos utilizar.\n",
        "\n",
        "Indo de forma macro, os dados estão distribuidos em mais de **155 Mil** entradas e **67** variáveis.\n",
        "\n",
        "*PS: Vale lembrar que esses valores são até o momento que estou fazendo a análise. Por ser uma base viva, os valores serão diferentes no momento da sua leitura.*\n",
        "\n",
        "Não podemos nos esquecer também de conferir quais são os tipos de variáveis com que vamos trabalhar."
      ],
      "metadata": {
        "id": "evxMXOGzpq4K"
      }
    },
    {
      "cell_type": "code",
      "metadata": {
        "colab": {
          "base_uri": "https://localhost:8080/",
          "height": 277
        },
        "id": "U8nK01jaDL87",
        "outputId": "85b25341-c146-4062-bc62-05935554d955"
      },
      "source": [
        "# identificar o volume de dados do DataFrame\n",
        "print(\"Entradas:\\t {}\".format(df.shape[0]))\n",
        "print(\"Variáveis:\\t {}\\n\".format(df.shape[1]))\n",
        "\n",
        "# identificar os tipos de variáveis\n",
        "display(df.dtypes)"
      ],
      "execution_count": 2,
      "outputs": [
        {
          "output_type": "stream",
          "name": "stdout",
          "text": [
            "Entradas:\t 157012\n",
            "Variáveis:\t 67\n",
            "\n"
          ]
        },
        {
          "output_type": "display_data",
          "data": {
            "text/plain": [
              "iso_code                                    object\n",
              "continent                                   object\n",
              "location                                    object\n",
              "date                                        object\n",
              "total_cases                                float64\n",
              "                                            ...   \n",
              "human_development_index                    float64\n",
              "excess_mortality_cumulative_absolute       float64\n",
              "excess_mortality_cumulative                float64\n",
              "excess_mortality                           float64\n",
              "excess_mortality_cumulative_per_million    float64\n",
              "Length: 67, dtype: object"
            ]
          },
          "metadata": {}
        }
      ]
    },
    {
      "cell_type": "markdown",
      "source": [
        "Indo um pouco mais a fundo na base, agora vou trazer as primeiras 5 e as últimas linhas da base. Dessa forma, já é possível conhecer como o dado está estruturado, quais estão faltando e quais vamos utilizar para a análise."
      ],
      "metadata": {
        "id": "NHauzx-DtQGN"
      }
    },
    {
      "cell_type": "code",
      "metadata": {
        "id": "gO1fv3D1PS4k",
        "colab": {
          "base_uri": "https://localhost:8080/",
          "height": 357
        },
        "outputId": "d03d22ba-7369-454d-83a2-090122db292e"
      },
      "source": [
        "# mostrar as 5 primeiras entradas\n",
        "df.head()"
      ],
      "execution_count": 3,
      "outputs": [
        {
          "output_type": "execute_result",
          "data": {
            "text/html": [
              "\n",
              "  <div id=\"df-544e1f5b-111c-49b8-b728-977859912fa1\">\n",
              "    <div class=\"colab-df-container\">\n",
              "      <div>\n",
              "<style scoped>\n",
              "    .dataframe tbody tr th:only-of-type {\n",
              "        vertical-align: middle;\n",
              "    }\n",
              "\n",
              "    .dataframe tbody tr th {\n",
              "        vertical-align: top;\n",
              "    }\n",
              "\n",
              "    .dataframe thead th {\n",
              "        text-align: right;\n",
              "    }\n",
              "</style>\n",
              "<table border=\"1\" class=\"dataframe\">\n",
              "  <thead>\n",
              "    <tr style=\"text-align: right;\">\n",
              "      <th></th>\n",
              "      <th>iso_code</th>\n",
              "      <th>continent</th>\n",
              "      <th>location</th>\n",
              "      <th>date</th>\n",
              "      <th>total_cases</th>\n",
              "      <th>new_cases</th>\n",
              "      <th>new_cases_smoothed</th>\n",
              "      <th>total_deaths</th>\n",
              "      <th>new_deaths</th>\n",
              "      <th>new_deaths_smoothed</th>\n",
              "      <th>total_cases_per_million</th>\n",
              "      <th>new_cases_per_million</th>\n",
              "      <th>new_cases_smoothed_per_million</th>\n",
              "      <th>total_deaths_per_million</th>\n",
              "      <th>new_deaths_per_million</th>\n",
              "      <th>new_deaths_smoothed_per_million</th>\n",
              "      <th>reproduction_rate</th>\n",
              "      <th>icu_patients</th>\n",
              "      <th>icu_patients_per_million</th>\n",
              "      <th>hosp_patients</th>\n",
              "      <th>hosp_patients_per_million</th>\n",
              "      <th>weekly_icu_admissions</th>\n",
              "      <th>weekly_icu_admissions_per_million</th>\n",
              "      <th>weekly_hosp_admissions</th>\n",
              "      <th>weekly_hosp_admissions_per_million</th>\n",
              "      <th>new_tests</th>\n",
              "      <th>total_tests</th>\n",
              "      <th>total_tests_per_thousand</th>\n",
              "      <th>new_tests_per_thousand</th>\n",
              "      <th>new_tests_smoothed</th>\n",
              "      <th>new_tests_smoothed_per_thousand</th>\n",
              "      <th>positive_rate</th>\n",
              "      <th>tests_per_case</th>\n",
              "      <th>tests_units</th>\n",
              "      <th>total_vaccinations</th>\n",
              "      <th>people_vaccinated</th>\n",
              "      <th>people_fully_vaccinated</th>\n",
              "      <th>total_boosters</th>\n",
              "      <th>new_vaccinations</th>\n",
              "      <th>new_vaccinations_smoothed</th>\n",
              "      <th>total_vaccinations_per_hundred</th>\n",
              "      <th>people_vaccinated_per_hundred</th>\n",
              "      <th>people_fully_vaccinated_per_hundred</th>\n",
              "      <th>total_boosters_per_hundred</th>\n",
              "      <th>new_vaccinations_smoothed_per_million</th>\n",
              "      <th>new_people_vaccinated_smoothed</th>\n",
              "      <th>new_people_vaccinated_smoothed_per_hundred</th>\n",
              "      <th>stringency_index</th>\n",
              "      <th>population</th>\n",
              "      <th>population_density</th>\n",
              "      <th>median_age</th>\n",
              "      <th>aged_65_older</th>\n",
              "      <th>aged_70_older</th>\n",
              "      <th>gdp_per_capita</th>\n",
              "      <th>extreme_poverty</th>\n",
              "      <th>cardiovasc_death_rate</th>\n",
              "      <th>diabetes_prevalence</th>\n",
              "      <th>female_smokers</th>\n",
              "      <th>male_smokers</th>\n",
              "      <th>handwashing_facilities</th>\n",
              "      <th>hospital_beds_per_thousand</th>\n",
              "      <th>life_expectancy</th>\n",
              "      <th>human_development_index</th>\n",
              "      <th>excess_mortality_cumulative_absolute</th>\n",
              "      <th>excess_mortality_cumulative</th>\n",
              "      <th>excess_mortality</th>\n",
              "      <th>excess_mortality_cumulative_per_million</th>\n",
              "    </tr>\n",
              "  </thead>\n",
              "  <tbody>\n",
              "    <tr>\n",
              "      <th>0</th>\n",
              "      <td>AFG</td>\n",
              "      <td>Asia</td>\n",
              "      <td>Afghanistan</td>\n",
              "      <td>2020-02-24</td>\n",
              "      <td>5.0</td>\n",
              "      <td>5.0</td>\n",
              "      <td>NaN</td>\n",
              "      <td>NaN</td>\n",
              "      <td>NaN</td>\n",
              "      <td>NaN</td>\n",
              "      <td>0.126</td>\n",
              "      <td>0.126</td>\n",
              "      <td>NaN</td>\n",
              "      <td>NaN</td>\n",
              "      <td>NaN</td>\n",
              "      <td>NaN</td>\n",
              "      <td>NaN</td>\n",
              "      <td>NaN</td>\n",
              "      <td>NaN</td>\n",
              "      <td>NaN</td>\n",
              "      <td>NaN</td>\n",
              "      <td>NaN</td>\n",
              "      <td>NaN</td>\n",
              "      <td>NaN</td>\n",
              "      <td>NaN</td>\n",
              "      <td>NaN</td>\n",
              "      <td>NaN</td>\n",
              "      <td>NaN</td>\n",
              "      <td>NaN</td>\n",
              "      <td>NaN</td>\n",
              "      <td>NaN</td>\n",
              "      <td>NaN</td>\n",
              "      <td>NaN</td>\n",
              "      <td>NaN</td>\n",
              "      <td>NaN</td>\n",
              "      <td>NaN</td>\n",
              "      <td>NaN</td>\n",
              "      <td>NaN</td>\n",
              "      <td>NaN</td>\n",
              "      <td>NaN</td>\n",
              "      <td>NaN</td>\n",
              "      <td>NaN</td>\n",
              "      <td>NaN</td>\n",
              "      <td>NaN</td>\n",
              "      <td>NaN</td>\n",
              "      <td>NaN</td>\n",
              "      <td>NaN</td>\n",
              "      <td>8.33</td>\n",
              "      <td>39835428.0</td>\n",
              "      <td>54.422</td>\n",
              "      <td>18.6</td>\n",
              "      <td>2.581</td>\n",
              "      <td>1.337</td>\n",
              "      <td>1803.987</td>\n",
              "      <td>NaN</td>\n",
              "      <td>597.029</td>\n",
              "      <td>9.59</td>\n",
              "      <td>NaN</td>\n",
              "      <td>NaN</td>\n",
              "      <td>37.746</td>\n",
              "      <td>0.5</td>\n",
              "      <td>64.83</td>\n",
              "      <td>0.511</td>\n",
              "      <td>NaN</td>\n",
              "      <td>NaN</td>\n",
              "      <td>NaN</td>\n",
              "      <td>NaN</td>\n",
              "    </tr>\n",
              "    <tr>\n",
              "      <th>1</th>\n",
              "      <td>AFG</td>\n",
              "      <td>Asia</td>\n",
              "      <td>Afghanistan</td>\n",
              "      <td>2020-02-25</td>\n",
              "      <td>5.0</td>\n",
              "      <td>0.0</td>\n",
              "      <td>NaN</td>\n",
              "      <td>NaN</td>\n",
              "      <td>NaN</td>\n",
              "      <td>NaN</td>\n",
              "      <td>0.126</td>\n",
              "      <td>0.000</td>\n",
              "      <td>NaN</td>\n",
              "      <td>NaN</td>\n",
              "      <td>NaN</td>\n",
              "      <td>NaN</td>\n",
              "      <td>NaN</td>\n",
              "      <td>NaN</td>\n",
              "      <td>NaN</td>\n",
              "      <td>NaN</td>\n",
              "      <td>NaN</td>\n",
              "      <td>NaN</td>\n",
              "      <td>NaN</td>\n",
              "      <td>NaN</td>\n",
              "      <td>NaN</td>\n",
              "      <td>NaN</td>\n",
              "      <td>NaN</td>\n",
              "      <td>NaN</td>\n",
              "      <td>NaN</td>\n",
              "      <td>NaN</td>\n",
              "      <td>NaN</td>\n",
              "      <td>NaN</td>\n",
              "      <td>NaN</td>\n",
              "      <td>NaN</td>\n",
              "      <td>NaN</td>\n",
              "      <td>NaN</td>\n",
              "      <td>NaN</td>\n",
              "      <td>NaN</td>\n",
              "      <td>NaN</td>\n",
              "      <td>NaN</td>\n",
              "      <td>NaN</td>\n",
              "      <td>NaN</td>\n",
              "      <td>NaN</td>\n",
              "      <td>NaN</td>\n",
              "      <td>NaN</td>\n",
              "      <td>NaN</td>\n",
              "      <td>NaN</td>\n",
              "      <td>8.33</td>\n",
              "      <td>39835428.0</td>\n",
              "      <td>54.422</td>\n",
              "      <td>18.6</td>\n",
              "      <td>2.581</td>\n",
              "      <td>1.337</td>\n",
              "      <td>1803.987</td>\n",
              "      <td>NaN</td>\n",
              "      <td>597.029</td>\n",
              "      <td>9.59</td>\n",
              "      <td>NaN</td>\n",
              "      <td>NaN</td>\n",
              "      <td>37.746</td>\n",
              "      <td>0.5</td>\n",
              "      <td>64.83</td>\n",
              "      <td>0.511</td>\n",
              "      <td>NaN</td>\n",
              "      <td>NaN</td>\n",
              "      <td>NaN</td>\n",
              "      <td>NaN</td>\n",
              "    </tr>\n",
              "    <tr>\n",
              "      <th>2</th>\n",
              "      <td>AFG</td>\n",
              "      <td>Asia</td>\n",
              "      <td>Afghanistan</td>\n",
              "      <td>2020-02-26</td>\n",
              "      <td>5.0</td>\n",
              "      <td>0.0</td>\n",
              "      <td>NaN</td>\n",
              "      <td>NaN</td>\n",
              "      <td>NaN</td>\n",
              "      <td>NaN</td>\n",
              "      <td>0.126</td>\n",
              "      <td>0.000</td>\n",
              "      <td>NaN</td>\n",
              "      <td>NaN</td>\n",
              "      <td>NaN</td>\n",
              "      <td>NaN</td>\n",
              "      <td>NaN</td>\n",
              "      <td>NaN</td>\n",
              "      <td>NaN</td>\n",
              "      <td>NaN</td>\n",
              "      <td>NaN</td>\n",
              "      <td>NaN</td>\n",
              "      <td>NaN</td>\n",
              "      <td>NaN</td>\n",
              "      <td>NaN</td>\n",
              "      <td>NaN</td>\n",
              "      <td>NaN</td>\n",
              "      <td>NaN</td>\n",
              "      <td>NaN</td>\n",
              "      <td>NaN</td>\n",
              "      <td>NaN</td>\n",
              "      <td>NaN</td>\n",
              "      <td>NaN</td>\n",
              "      <td>NaN</td>\n",
              "      <td>NaN</td>\n",
              "      <td>NaN</td>\n",
              "      <td>NaN</td>\n",
              "      <td>NaN</td>\n",
              "      <td>NaN</td>\n",
              "      <td>NaN</td>\n",
              "      <td>NaN</td>\n",
              "      <td>NaN</td>\n",
              "      <td>NaN</td>\n",
              "      <td>NaN</td>\n",
              "      <td>NaN</td>\n",
              "      <td>NaN</td>\n",
              "      <td>NaN</td>\n",
              "      <td>8.33</td>\n",
              "      <td>39835428.0</td>\n",
              "      <td>54.422</td>\n",
              "      <td>18.6</td>\n",
              "      <td>2.581</td>\n",
              "      <td>1.337</td>\n",
              "      <td>1803.987</td>\n",
              "      <td>NaN</td>\n",
              "      <td>597.029</td>\n",
              "      <td>9.59</td>\n",
              "      <td>NaN</td>\n",
              "      <td>NaN</td>\n",
              "      <td>37.746</td>\n",
              "      <td>0.5</td>\n",
              "      <td>64.83</td>\n",
              "      <td>0.511</td>\n",
              "      <td>NaN</td>\n",
              "      <td>NaN</td>\n",
              "      <td>NaN</td>\n",
              "      <td>NaN</td>\n",
              "    </tr>\n",
              "    <tr>\n",
              "      <th>3</th>\n",
              "      <td>AFG</td>\n",
              "      <td>Asia</td>\n",
              "      <td>Afghanistan</td>\n",
              "      <td>2020-02-27</td>\n",
              "      <td>5.0</td>\n",
              "      <td>0.0</td>\n",
              "      <td>NaN</td>\n",
              "      <td>NaN</td>\n",
              "      <td>NaN</td>\n",
              "      <td>NaN</td>\n",
              "      <td>0.126</td>\n",
              "      <td>0.000</td>\n",
              "      <td>NaN</td>\n",
              "      <td>NaN</td>\n",
              "      <td>NaN</td>\n",
              "      <td>NaN</td>\n",
              "      <td>NaN</td>\n",
              "      <td>NaN</td>\n",
              "      <td>NaN</td>\n",
              "      <td>NaN</td>\n",
              "      <td>NaN</td>\n",
              "      <td>NaN</td>\n",
              "      <td>NaN</td>\n",
              "      <td>NaN</td>\n",
              "      <td>NaN</td>\n",
              "      <td>NaN</td>\n",
              "      <td>NaN</td>\n",
              "      <td>NaN</td>\n",
              "      <td>NaN</td>\n",
              "      <td>NaN</td>\n",
              "      <td>NaN</td>\n",
              "      <td>NaN</td>\n",
              "      <td>NaN</td>\n",
              "      <td>NaN</td>\n",
              "      <td>NaN</td>\n",
              "      <td>NaN</td>\n",
              "      <td>NaN</td>\n",
              "      <td>NaN</td>\n",
              "      <td>NaN</td>\n",
              "      <td>NaN</td>\n",
              "      <td>NaN</td>\n",
              "      <td>NaN</td>\n",
              "      <td>NaN</td>\n",
              "      <td>NaN</td>\n",
              "      <td>NaN</td>\n",
              "      <td>NaN</td>\n",
              "      <td>NaN</td>\n",
              "      <td>8.33</td>\n",
              "      <td>39835428.0</td>\n",
              "      <td>54.422</td>\n",
              "      <td>18.6</td>\n",
              "      <td>2.581</td>\n",
              "      <td>1.337</td>\n",
              "      <td>1803.987</td>\n",
              "      <td>NaN</td>\n",
              "      <td>597.029</td>\n",
              "      <td>9.59</td>\n",
              "      <td>NaN</td>\n",
              "      <td>NaN</td>\n",
              "      <td>37.746</td>\n",
              "      <td>0.5</td>\n",
              "      <td>64.83</td>\n",
              "      <td>0.511</td>\n",
              "      <td>NaN</td>\n",
              "      <td>NaN</td>\n",
              "      <td>NaN</td>\n",
              "      <td>NaN</td>\n",
              "    </tr>\n",
              "    <tr>\n",
              "      <th>4</th>\n",
              "      <td>AFG</td>\n",
              "      <td>Asia</td>\n",
              "      <td>Afghanistan</td>\n",
              "      <td>2020-02-28</td>\n",
              "      <td>5.0</td>\n",
              "      <td>0.0</td>\n",
              "      <td>NaN</td>\n",
              "      <td>NaN</td>\n",
              "      <td>NaN</td>\n",
              "      <td>NaN</td>\n",
              "      <td>0.126</td>\n",
              "      <td>0.000</td>\n",
              "      <td>NaN</td>\n",
              "      <td>NaN</td>\n",
              "      <td>NaN</td>\n",
              "      <td>NaN</td>\n",
              "      <td>NaN</td>\n",
              "      <td>NaN</td>\n",
              "      <td>NaN</td>\n",
              "      <td>NaN</td>\n",
              "      <td>NaN</td>\n",
              "      <td>NaN</td>\n",
              "      <td>NaN</td>\n",
              "      <td>NaN</td>\n",
              "      <td>NaN</td>\n",
              "      <td>NaN</td>\n",
              "      <td>NaN</td>\n",
              "      <td>NaN</td>\n",
              "      <td>NaN</td>\n",
              "      <td>NaN</td>\n",
              "      <td>NaN</td>\n",
              "      <td>NaN</td>\n",
              "      <td>NaN</td>\n",
              "      <td>NaN</td>\n",
              "      <td>NaN</td>\n",
              "      <td>NaN</td>\n",
              "      <td>NaN</td>\n",
              "      <td>NaN</td>\n",
              "      <td>NaN</td>\n",
              "      <td>NaN</td>\n",
              "      <td>NaN</td>\n",
              "      <td>NaN</td>\n",
              "      <td>NaN</td>\n",
              "      <td>NaN</td>\n",
              "      <td>NaN</td>\n",
              "      <td>NaN</td>\n",
              "      <td>NaN</td>\n",
              "      <td>8.33</td>\n",
              "      <td>39835428.0</td>\n",
              "      <td>54.422</td>\n",
              "      <td>18.6</td>\n",
              "      <td>2.581</td>\n",
              "      <td>1.337</td>\n",
              "      <td>1803.987</td>\n",
              "      <td>NaN</td>\n",
              "      <td>597.029</td>\n",
              "      <td>9.59</td>\n",
              "      <td>NaN</td>\n",
              "      <td>NaN</td>\n",
              "      <td>37.746</td>\n",
              "      <td>0.5</td>\n",
              "      <td>64.83</td>\n",
              "      <td>0.511</td>\n",
              "      <td>NaN</td>\n",
              "      <td>NaN</td>\n",
              "      <td>NaN</td>\n",
              "      <td>NaN</td>\n",
              "    </tr>\n",
              "  </tbody>\n",
              "</table>\n",
              "</div>\n",
              "      <button class=\"colab-df-convert\" onclick=\"convertToInteractive('df-544e1f5b-111c-49b8-b728-977859912fa1')\"\n",
              "              title=\"Convert this dataframe to an interactive table.\"\n",
              "              style=\"display:none;\">\n",
              "        \n",
              "  <svg xmlns=\"http://www.w3.org/2000/svg\" height=\"24px\"viewBox=\"0 0 24 24\"\n",
              "       width=\"24px\">\n",
              "    <path d=\"M0 0h24v24H0V0z\" fill=\"none\"/>\n",
              "    <path d=\"M18.56 5.44l.94 2.06.94-2.06 2.06-.94-2.06-.94-.94-2.06-.94 2.06-2.06.94zm-11 1L8.5 8.5l.94-2.06 2.06-.94-2.06-.94L8.5 2.5l-.94 2.06-2.06.94zm10 10l.94 2.06.94-2.06 2.06-.94-2.06-.94-.94-2.06-.94 2.06-2.06.94z\"/><path d=\"M17.41 7.96l-1.37-1.37c-.4-.4-.92-.59-1.43-.59-.52 0-1.04.2-1.43.59L10.3 9.45l-7.72 7.72c-.78.78-.78 2.05 0 2.83L4 21.41c.39.39.9.59 1.41.59.51 0 1.02-.2 1.41-.59l7.78-7.78 2.81-2.81c.8-.78.8-2.07 0-2.86zM5.41 20L4 18.59l7.72-7.72 1.47 1.35L5.41 20z\"/>\n",
              "  </svg>\n",
              "      </button>\n",
              "      \n",
              "  <style>\n",
              "    .colab-df-container {\n",
              "      display:flex;\n",
              "      flex-wrap:wrap;\n",
              "      gap: 12px;\n",
              "    }\n",
              "\n",
              "    .colab-df-convert {\n",
              "      background-color: #E8F0FE;\n",
              "      border: none;\n",
              "      border-radius: 50%;\n",
              "      cursor: pointer;\n",
              "      display: none;\n",
              "      fill: #1967D2;\n",
              "      height: 32px;\n",
              "      padding: 0 0 0 0;\n",
              "      width: 32px;\n",
              "    }\n",
              "\n",
              "    .colab-df-convert:hover {\n",
              "      background-color: #E2EBFA;\n",
              "      box-shadow: 0px 1px 2px rgba(60, 64, 67, 0.3), 0px 1px 3px 1px rgba(60, 64, 67, 0.15);\n",
              "      fill: #174EA6;\n",
              "    }\n",
              "\n",
              "    [theme=dark] .colab-df-convert {\n",
              "      background-color: #3B4455;\n",
              "      fill: #D2E3FC;\n",
              "    }\n",
              "\n",
              "    [theme=dark] .colab-df-convert:hover {\n",
              "      background-color: #434B5C;\n",
              "      box-shadow: 0px 1px 3px 1px rgba(0, 0, 0, 0.15);\n",
              "      filter: drop-shadow(0px 1px 2px rgba(0, 0, 0, 0.3));\n",
              "      fill: #FFFFFF;\n",
              "    }\n",
              "  </style>\n",
              "\n",
              "      <script>\n",
              "        const buttonEl =\n",
              "          document.querySelector('#df-544e1f5b-111c-49b8-b728-977859912fa1 button.colab-df-convert');\n",
              "        buttonEl.style.display =\n",
              "          google.colab.kernel.accessAllowed ? 'block' : 'none';\n",
              "\n",
              "        async function convertToInteractive(key) {\n",
              "          const element = document.querySelector('#df-544e1f5b-111c-49b8-b728-977859912fa1');\n",
              "          const dataTable =\n",
              "            await google.colab.kernel.invokeFunction('convertToInteractive',\n",
              "                                                     [key], {});\n",
              "          if (!dataTable) return;\n",
              "\n",
              "          const docLinkHtml = 'Like what you see? Visit the ' +\n",
              "            '<a target=\"_blank\" href=https://colab.research.google.com/notebooks/data_table.ipynb>data table notebook</a>'\n",
              "            + ' to learn more about interactive tables.';\n",
              "          element.innerHTML = '';\n",
              "          dataTable['output_type'] = 'display_data';\n",
              "          await google.colab.output.renderOutput(dataTable, element);\n",
              "          const docLink = document.createElement('div');\n",
              "          docLink.innerHTML = docLinkHtml;\n",
              "          element.appendChild(docLink);\n",
              "        }\n",
              "      </script>\n",
              "    </div>\n",
              "  </div>\n",
              "  "
            ],
            "text/plain": [
              "  iso_code continent  ... excess_mortality excess_mortality_cumulative_per_million\n",
              "0      AFG      Asia  ...              NaN                                     NaN\n",
              "1      AFG      Asia  ...              NaN                                     NaN\n",
              "2      AFG      Asia  ...              NaN                                     NaN\n",
              "3      AFG      Asia  ...              NaN                                     NaN\n",
              "4      AFG      Asia  ...              NaN                                     NaN\n",
              "\n",
              "[5 rows x 67 columns]"
            ]
          },
          "metadata": {},
          "execution_count": 3
        }
      ]
    },
    {
      "cell_type": "code",
      "metadata": {
        "colab": {
          "base_uri": "https://localhost:8080/",
          "height": 357
        },
        "id": "rLsrAnce556Y",
        "outputId": "838cd3bb-91be-463c-d782-b56206d1fe2f"
      },
      "source": [
        "# mostrar as 5 últimas entradas\n",
        "df.tail()"
      ],
      "execution_count": 4,
      "outputs": [
        {
          "output_type": "execute_result",
          "data": {
            "text/html": [
              "\n",
              "  <div id=\"df-9da2a59d-4541-4d33-988e-79561369cc89\">\n",
              "    <div class=\"colab-df-container\">\n",
              "      <div>\n",
              "<style scoped>\n",
              "    .dataframe tbody tr th:only-of-type {\n",
              "        vertical-align: middle;\n",
              "    }\n",
              "\n",
              "    .dataframe tbody tr th {\n",
              "        vertical-align: top;\n",
              "    }\n",
              "\n",
              "    .dataframe thead th {\n",
              "        text-align: right;\n",
              "    }\n",
              "</style>\n",
              "<table border=\"1\" class=\"dataframe\">\n",
              "  <thead>\n",
              "    <tr style=\"text-align: right;\">\n",
              "      <th></th>\n",
              "      <th>iso_code</th>\n",
              "      <th>continent</th>\n",
              "      <th>location</th>\n",
              "      <th>date</th>\n",
              "      <th>total_cases</th>\n",
              "      <th>new_cases</th>\n",
              "      <th>new_cases_smoothed</th>\n",
              "      <th>total_deaths</th>\n",
              "      <th>new_deaths</th>\n",
              "      <th>new_deaths_smoothed</th>\n",
              "      <th>total_cases_per_million</th>\n",
              "      <th>new_cases_per_million</th>\n",
              "      <th>new_cases_smoothed_per_million</th>\n",
              "      <th>total_deaths_per_million</th>\n",
              "      <th>new_deaths_per_million</th>\n",
              "      <th>new_deaths_smoothed_per_million</th>\n",
              "      <th>reproduction_rate</th>\n",
              "      <th>icu_patients</th>\n",
              "      <th>icu_patients_per_million</th>\n",
              "      <th>hosp_patients</th>\n",
              "      <th>hosp_patients_per_million</th>\n",
              "      <th>weekly_icu_admissions</th>\n",
              "      <th>weekly_icu_admissions_per_million</th>\n",
              "      <th>weekly_hosp_admissions</th>\n",
              "      <th>weekly_hosp_admissions_per_million</th>\n",
              "      <th>new_tests</th>\n",
              "      <th>total_tests</th>\n",
              "      <th>total_tests_per_thousand</th>\n",
              "      <th>new_tests_per_thousand</th>\n",
              "      <th>new_tests_smoothed</th>\n",
              "      <th>new_tests_smoothed_per_thousand</th>\n",
              "      <th>positive_rate</th>\n",
              "      <th>tests_per_case</th>\n",
              "      <th>tests_units</th>\n",
              "      <th>total_vaccinations</th>\n",
              "      <th>people_vaccinated</th>\n",
              "      <th>people_fully_vaccinated</th>\n",
              "      <th>total_boosters</th>\n",
              "      <th>new_vaccinations</th>\n",
              "      <th>new_vaccinations_smoothed</th>\n",
              "      <th>total_vaccinations_per_hundred</th>\n",
              "      <th>people_vaccinated_per_hundred</th>\n",
              "      <th>people_fully_vaccinated_per_hundred</th>\n",
              "      <th>total_boosters_per_hundred</th>\n",
              "      <th>new_vaccinations_smoothed_per_million</th>\n",
              "      <th>new_people_vaccinated_smoothed</th>\n",
              "      <th>new_people_vaccinated_smoothed_per_hundred</th>\n",
              "      <th>stringency_index</th>\n",
              "      <th>population</th>\n",
              "      <th>population_density</th>\n",
              "      <th>median_age</th>\n",
              "      <th>aged_65_older</th>\n",
              "      <th>aged_70_older</th>\n",
              "      <th>gdp_per_capita</th>\n",
              "      <th>extreme_poverty</th>\n",
              "      <th>cardiovasc_death_rate</th>\n",
              "      <th>diabetes_prevalence</th>\n",
              "      <th>female_smokers</th>\n",
              "      <th>male_smokers</th>\n",
              "      <th>handwashing_facilities</th>\n",
              "      <th>hospital_beds_per_thousand</th>\n",
              "      <th>life_expectancy</th>\n",
              "      <th>human_development_index</th>\n",
              "      <th>excess_mortality_cumulative_absolute</th>\n",
              "      <th>excess_mortality_cumulative</th>\n",
              "      <th>excess_mortality</th>\n",
              "      <th>excess_mortality_cumulative_per_million</th>\n",
              "    </tr>\n",
              "  </thead>\n",
              "  <tbody>\n",
              "    <tr>\n",
              "      <th>157007</th>\n",
              "      <td>ZWE</td>\n",
              "      <td>Africa</td>\n",
              "      <td>Zimbabwe</td>\n",
              "      <td>2022-01-20</td>\n",
              "      <td>227552.0</td>\n",
              "      <td>665.0</td>\n",
              "      <td>352.571</td>\n",
              "      <td>5276.0</td>\n",
              "      <td>10.0</td>\n",
              "      <td>7.714</td>\n",
              "      <td>15077.486</td>\n",
              "      <td>44.063</td>\n",
              "      <td>23.361</td>\n",
              "      <td>349.585</td>\n",
              "      <td>0.663</td>\n",
              "      <td>0.511</td>\n",
              "      <td>0.57</td>\n",
              "      <td>NaN</td>\n",
              "      <td>NaN</td>\n",
              "      <td>NaN</td>\n",
              "      <td>NaN</td>\n",
              "      <td>NaN</td>\n",
              "      <td>NaN</td>\n",
              "      <td>NaN</td>\n",
              "      <td>NaN</td>\n",
              "      <td>4422.0</td>\n",
              "      <td>1816276.0</td>\n",
              "      <td>120.346</td>\n",
              "      <td>0.293</td>\n",
              "      <td>4675.0</td>\n",
              "      <td>0.31</td>\n",
              "      <td>0.0754</td>\n",
              "      <td>13.3</td>\n",
              "      <td>tests performed</td>\n",
              "      <td>7483232.0</td>\n",
              "      <td>4228652.0</td>\n",
              "      <td>3254580.0</td>\n",
              "      <td>NaN</td>\n",
              "      <td>10679.0</td>\n",
              "      <td>10562.0</td>\n",
              "      <td>49.58</td>\n",
              "      <td>28.02</td>\n",
              "      <td>21.56</td>\n",
              "      <td>NaN</td>\n",
              "      <td>700.0</td>\n",
              "      <td>5087.0</td>\n",
              "      <td>0.034</td>\n",
              "      <td>NaN</td>\n",
              "      <td>15092171.0</td>\n",
              "      <td>42.729</td>\n",
              "      <td>19.6</td>\n",
              "      <td>2.822</td>\n",
              "      <td>1.882</td>\n",
              "      <td>1899.775</td>\n",
              "      <td>21.4</td>\n",
              "      <td>307.846</td>\n",
              "      <td>1.82</td>\n",
              "      <td>1.6</td>\n",
              "      <td>30.7</td>\n",
              "      <td>36.791</td>\n",
              "      <td>1.7</td>\n",
              "      <td>61.49</td>\n",
              "      <td>0.571</td>\n",
              "      <td>NaN</td>\n",
              "      <td>NaN</td>\n",
              "      <td>NaN</td>\n",
              "      <td>NaN</td>\n",
              "    </tr>\n",
              "    <tr>\n",
              "      <th>157008</th>\n",
              "      <td>ZWE</td>\n",
              "      <td>Africa</td>\n",
              "      <td>Zimbabwe</td>\n",
              "      <td>2022-01-21</td>\n",
              "      <td>227961.0</td>\n",
              "      <td>409.0</td>\n",
              "      <td>332.000</td>\n",
              "      <td>5288.0</td>\n",
              "      <td>12.0</td>\n",
              "      <td>7.143</td>\n",
              "      <td>15104.586</td>\n",
              "      <td>27.100</td>\n",
              "      <td>21.998</td>\n",
              "      <td>350.380</td>\n",
              "      <td>0.795</td>\n",
              "      <td>0.473</td>\n",
              "      <td>0.58</td>\n",
              "      <td>NaN</td>\n",
              "      <td>NaN</td>\n",
              "      <td>NaN</td>\n",
              "      <td>NaN</td>\n",
              "      <td>NaN</td>\n",
              "      <td>NaN</td>\n",
              "      <td>NaN</td>\n",
              "      <td>NaN</td>\n",
              "      <td>NaN</td>\n",
              "      <td>NaN</td>\n",
              "      <td>NaN</td>\n",
              "      <td>NaN</td>\n",
              "      <td>NaN</td>\n",
              "      <td>NaN</td>\n",
              "      <td>NaN</td>\n",
              "      <td>NaN</td>\n",
              "      <td>NaN</td>\n",
              "      <td>7496882.0</td>\n",
              "      <td>4234640.0</td>\n",
              "      <td>3262242.0</td>\n",
              "      <td>NaN</td>\n",
              "      <td>13650.0</td>\n",
              "      <td>10405.0</td>\n",
              "      <td>49.67</td>\n",
              "      <td>28.06</td>\n",
              "      <td>21.62</td>\n",
              "      <td>NaN</td>\n",
              "      <td>689.0</td>\n",
              "      <td>5021.0</td>\n",
              "      <td>0.033</td>\n",
              "      <td>NaN</td>\n",
              "      <td>15092171.0</td>\n",
              "      <td>42.729</td>\n",
              "      <td>19.6</td>\n",
              "      <td>2.822</td>\n",
              "      <td>1.882</td>\n",
              "      <td>1899.775</td>\n",
              "      <td>21.4</td>\n",
              "      <td>307.846</td>\n",
              "      <td>1.82</td>\n",
              "      <td>1.6</td>\n",
              "      <td>30.7</td>\n",
              "      <td>36.791</td>\n",
              "      <td>1.7</td>\n",
              "      <td>61.49</td>\n",
              "      <td>0.571</td>\n",
              "      <td>NaN</td>\n",
              "      <td>NaN</td>\n",
              "      <td>NaN</td>\n",
              "      <td>NaN</td>\n",
              "    </tr>\n",
              "    <tr>\n",
              "      <th>157009</th>\n",
              "      <td>ZWE</td>\n",
              "      <td>Africa</td>\n",
              "      <td>Zimbabwe</td>\n",
              "      <td>2022-01-22</td>\n",
              "      <td>228179.0</td>\n",
              "      <td>218.0</td>\n",
              "      <td>363.143</td>\n",
              "      <td>5292.0</td>\n",
              "      <td>4.0</td>\n",
              "      <td>7.714</td>\n",
              "      <td>15119.031</td>\n",
              "      <td>14.445</td>\n",
              "      <td>24.062</td>\n",
              "      <td>350.645</td>\n",
              "      <td>0.265</td>\n",
              "      <td>0.511</td>\n",
              "      <td>NaN</td>\n",
              "      <td>NaN</td>\n",
              "      <td>NaN</td>\n",
              "      <td>NaN</td>\n",
              "      <td>NaN</td>\n",
              "      <td>NaN</td>\n",
              "      <td>NaN</td>\n",
              "      <td>NaN</td>\n",
              "      <td>NaN</td>\n",
              "      <td>NaN</td>\n",
              "      <td>NaN</td>\n",
              "      <td>NaN</td>\n",
              "      <td>NaN</td>\n",
              "      <td>NaN</td>\n",
              "      <td>NaN</td>\n",
              "      <td>NaN</td>\n",
              "      <td>NaN</td>\n",
              "      <td>NaN</td>\n",
              "      <td>7506786.0</td>\n",
              "      <td>4239537.0</td>\n",
              "      <td>3267249.0</td>\n",
              "      <td>NaN</td>\n",
              "      <td>9904.0</td>\n",
              "      <td>10567.0</td>\n",
              "      <td>49.74</td>\n",
              "      <td>28.09</td>\n",
              "      <td>21.65</td>\n",
              "      <td>NaN</td>\n",
              "      <td>700.0</td>\n",
              "      <td>5058.0</td>\n",
              "      <td>0.034</td>\n",
              "      <td>NaN</td>\n",
              "      <td>15092171.0</td>\n",
              "      <td>42.729</td>\n",
              "      <td>19.6</td>\n",
              "      <td>2.822</td>\n",
              "      <td>1.882</td>\n",
              "      <td>1899.775</td>\n",
              "      <td>21.4</td>\n",
              "      <td>307.846</td>\n",
              "      <td>1.82</td>\n",
              "      <td>1.6</td>\n",
              "      <td>30.7</td>\n",
              "      <td>36.791</td>\n",
              "      <td>1.7</td>\n",
              "      <td>61.49</td>\n",
              "      <td>0.571</td>\n",
              "      <td>NaN</td>\n",
              "      <td>NaN</td>\n",
              "      <td>NaN</td>\n",
              "      <td>NaN</td>\n",
              "    </tr>\n",
              "    <tr>\n",
              "      <th>157010</th>\n",
              "      <td>ZWE</td>\n",
              "      <td>Africa</td>\n",
              "      <td>Zimbabwe</td>\n",
              "      <td>2022-01-23</td>\n",
              "      <td>228254.0</td>\n",
              "      <td>75.0</td>\n",
              "      <td>310.857</td>\n",
              "      <td>5294.0</td>\n",
              "      <td>2.0</td>\n",
              "      <td>6.714</td>\n",
              "      <td>15124.000</td>\n",
              "      <td>4.969</td>\n",
              "      <td>20.597</td>\n",
              "      <td>350.778</td>\n",
              "      <td>0.133</td>\n",
              "      <td>0.445</td>\n",
              "      <td>NaN</td>\n",
              "      <td>NaN</td>\n",
              "      <td>NaN</td>\n",
              "      <td>NaN</td>\n",
              "      <td>NaN</td>\n",
              "      <td>NaN</td>\n",
              "      <td>NaN</td>\n",
              "      <td>NaN</td>\n",
              "      <td>NaN</td>\n",
              "      <td>NaN</td>\n",
              "      <td>NaN</td>\n",
              "      <td>NaN</td>\n",
              "      <td>NaN</td>\n",
              "      <td>NaN</td>\n",
              "      <td>NaN</td>\n",
              "      <td>NaN</td>\n",
              "      <td>NaN</td>\n",
              "      <td>NaN</td>\n",
              "      <td>7512903.0</td>\n",
              "      <td>4242647.0</td>\n",
              "      <td>3270256.0</td>\n",
              "      <td>NaN</td>\n",
              "      <td>6117.0</td>\n",
              "      <td>10631.0</td>\n",
              "      <td>49.78</td>\n",
              "      <td>28.11</td>\n",
              "      <td>21.67</td>\n",
              "      <td>NaN</td>\n",
              "      <td>704.0</td>\n",
              "      <td>5182.0</td>\n",
              "      <td>0.034</td>\n",
              "      <td>NaN</td>\n",
              "      <td>15092171.0</td>\n",
              "      <td>42.729</td>\n",
              "      <td>19.6</td>\n",
              "      <td>2.822</td>\n",
              "      <td>1.882</td>\n",
              "      <td>1899.775</td>\n",
              "      <td>21.4</td>\n",
              "      <td>307.846</td>\n",
              "      <td>1.82</td>\n",
              "      <td>1.6</td>\n",
              "      <td>30.7</td>\n",
              "      <td>36.791</td>\n",
              "      <td>1.7</td>\n",
              "      <td>61.49</td>\n",
              "      <td>0.571</td>\n",
              "      <td>NaN</td>\n",
              "      <td>NaN</td>\n",
              "      <td>NaN</td>\n",
              "      <td>NaN</td>\n",
              "    </tr>\n",
              "    <tr>\n",
              "      <th>157011</th>\n",
              "      <td>ZWE</td>\n",
              "      <td>Africa</td>\n",
              "      <td>Zimbabwe</td>\n",
              "      <td>2022-01-24</td>\n",
              "      <td>228541.0</td>\n",
              "      <td>287.0</td>\n",
              "      <td>297.286</td>\n",
              "      <td>5305.0</td>\n",
              "      <td>11.0</td>\n",
              "      <td>6.714</td>\n",
              "      <td>15143.017</td>\n",
              "      <td>19.016</td>\n",
              "      <td>19.698</td>\n",
              "      <td>351.507</td>\n",
              "      <td>0.729</td>\n",
              "      <td>0.445</td>\n",
              "      <td>NaN</td>\n",
              "      <td>NaN</td>\n",
              "      <td>NaN</td>\n",
              "      <td>NaN</td>\n",
              "      <td>NaN</td>\n",
              "      <td>NaN</td>\n",
              "      <td>NaN</td>\n",
              "      <td>NaN</td>\n",
              "      <td>NaN</td>\n",
              "      <td>NaN</td>\n",
              "      <td>NaN</td>\n",
              "      <td>NaN</td>\n",
              "      <td>NaN</td>\n",
              "      <td>NaN</td>\n",
              "      <td>NaN</td>\n",
              "      <td>NaN</td>\n",
              "      <td>NaN</td>\n",
              "      <td>NaN</td>\n",
              "      <td>NaN</td>\n",
              "      <td>NaN</td>\n",
              "      <td>NaN</td>\n",
              "      <td>NaN</td>\n",
              "      <td>NaN</td>\n",
              "      <td>NaN</td>\n",
              "      <td>NaN</td>\n",
              "      <td>NaN</td>\n",
              "      <td>NaN</td>\n",
              "      <td>NaN</td>\n",
              "      <td>NaN</td>\n",
              "      <td>NaN</td>\n",
              "      <td>NaN</td>\n",
              "      <td>NaN</td>\n",
              "      <td>15092171.0</td>\n",
              "      <td>42.729</td>\n",
              "      <td>19.6</td>\n",
              "      <td>2.822</td>\n",
              "      <td>1.882</td>\n",
              "      <td>1899.775</td>\n",
              "      <td>21.4</td>\n",
              "      <td>307.846</td>\n",
              "      <td>1.82</td>\n",
              "      <td>1.6</td>\n",
              "      <td>30.7</td>\n",
              "      <td>36.791</td>\n",
              "      <td>1.7</td>\n",
              "      <td>61.49</td>\n",
              "      <td>0.571</td>\n",
              "      <td>NaN</td>\n",
              "      <td>NaN</td>\n",
              "      <td>NaN</td>\n",
              "      <td>NaN</td>\n",
              "    </tr>\n",
              "  </tbody>\n",
              "</table>\n",
              "</div>\n",
              "      <button class=\"colab-df-convert\" onclick=\"convertToInteractive('df-9da2a59d-4541-4d33-988e-79561369cc89')\"\n",
              "              title=\"Convert this dataframe to an interactive table.\"\n",
              "              style=\"display:none;\">\n",
              "        \n",
              "  <svg xmlns=\"http://www.w3.org/2000/svg\" height=\"24px\"viewBox=\"0 0 24 24\"\n",
              "       width=\"24px\">\n",
              "    <path d=\"M0 0h24v24H0V0z\" fill=\"none\"/>\n",
              "    <path d=\"M18.56 5.44l.94 2.06.94-2.06 2.06-.94-2.06-.94-.94-2.06-.94 2.06-2.06.94zm-11 1L8.5 8.5l.94-2.06 2.06-.94-2.06-.94L8.5 2.5l-.94 2.06-2.06.94zm10 10l.94 2.06.94-2.06 2.06-.94-2.06-.94-.94-2.06-.94 2.06-2.06.94z\"/><path d=\"M17.41 7.96l-1.37-1.37c-.4-.4-.92-.59-1.43-.59-.52 0-1.04.2-1.43.59L10.3 9.45l-7.72 7.72c-.78.78-.78 2.05 0 2.83L4 21.41c.39.39.9.59 1.41.59.51 0 1.02-.2 1.41-.59l7.78-7.78 2.81-2.81c.8-.78.8-2.07 0-2.86zM5.41 20L4 18.59l7.72-7.72 1.47 1.35L5.41 20z\"/>\n",
              "  </svg>\n",
              "      </button>\n",
              "      \n",
              "  <style>\n",
              "    .colab-df-container {\n",
              "      display:flex;\n",
              "      flex-wrap:wrap;\n",
              "      gap: 12px;\n",
              "    }\n",
              "\n",
              "    .colab-df-convert {\n",
              "      background-color: #E8F0FE;\n",
              "      border: none;\n",
              "      border-radius: 50%;\n",
              "      cursor: pointer;\n",
              "      display: none;\n",
              "      fill: #1967D2;\n",
              "      height: 32px;\n",
              "      padding: 0 0 0 0;\n",
              "      width: 32px;\n",
              "    }\n",
              "\n",
              "    .colab-df-convert:hover {\n",
              "      background-color: #E2EBFA;\n",
              "      box-shadow: 0px 1px 2px rgba(60, 64, 67, 0.3), 0px 1px 3px 1px rgba(60, 64, 67, 0.15);\n",
              "      fill: #174EA6;\n",
              "    }\n",
              "\n",
              "    [theme=dark] .colab-df-convert {\n",
              "      background-color: #3B4455;\n",
              "      fill: #D2E3FC;\n",
              "    }\n",
              "\n",
              "    [theme=dark] .colab-df-convert:hover {\n",
              "      background-color: #434B5C;\n",
              "      box-shadow: 0px 1px 3px 1px rgba(0, 0, 0, 0.15);\n",
              "      filter: drop-shadow(0px 1px 2px rgba(0, 0, 0, 0.3));\n",
              "      fill: #FFFFFF;\n",
              "    }\n",
              "  </style>\n",
              "\n",
              "      <script>\n",
              "        const buttonEl =\n",
              "          document.querySelector('#df-9da2a59d-4541-4d33-988e-79561369cc89 button.colab-df-convert');\n",
              "        buttonEl.style.display =\n",
              "          google.colab.kernel.accessAllowed ? 'block' : 'none';\n",
              "\n",
              "        async function convertToInteractive(key) {\n",
              "          const element = document.querySelector('#df-9da2a59d-4541-4d33-988e-79561369cc89');\n",
              "          const dataTable =\n",
              "            await google.colab.kernel.invokeFunction('convertToInteractive',\n",
              "                                                     [key], {});\n",
              "          if (!dataTable) return;\n",
              "\n",
              "          const docLinkHtml = 'Like what you see? Visit the ' +\n",
              "            '<a target=\"_blank\" href=https://colab.research.google.com/notebooks/data_table.ipynb>data table notebook</a>'\n",
              "            + ' to learn more about interactive tables.';\n",
              "          element.innerHTML = '';\n",
              "          dataTable['output_type'] = 'display_data';\n",
              "          await google.colab.output.renderOutput(dataTable, element);\n",
              "          const docLink = document.createElement('div');\n",
              "          docLink.innerHTML = docLinkHtml;\n",
              "          element.appendChild(docLink);\n",
              "        }\n",
              "      </script>\n",
              "    </div>\n",
              "  </div>\n",
              "  "
            ],
            "text/plain": [
              "       iso_code  ... excess_mortality_cumulative_per_million\n",
              "157007      ZWE  ...                                     NaN\n",
              "157008      ZWE  ...                                     NaN\n",
              "157009      ZWE  ...                                     NaN\n",
              "157010      ZWE  ...                                     NaN\n",
              "157011      ZWE  ...                                     NaN\n",
              "\n",
              "[5 rows x 67 columns]"
            ]
          },
          "metadata": {},
          "execution_count": 4
        }
      ]
    },
    {
      "cell_type": "markdown",
      "source": [
        "# Colunas\n",
        "Lembra do dicionário de variáveis lá em cima ? Bom, é possível olhar trazer ele também com o `df.columns`."
      ],
      "metadata": {
        "id": "uIM_SsjGZAW4"
      }
    },
    {
      "cell_type": "code",
      "metadata": {
        "colab": {
          "base_uri": "https://localhost:8080/"
        },
        "id": "yQHw_wGADV3R",
        "outputId": "76a4e80e-4134-433f-e475-b238e167eff4"
      },
      "source": [
        "# mostrar as colunas da base\n",
        "df.columns"
      ],
      "execution_count": 5,
      "outputs": [
        {
          "output_type": "execute_result",
          "data": {
            "text/plain": [
              "Index(['iso_code', 'continent', 'location', 'date', 'total_cases', 'new_cases',\n",
              "       'new_cases_smoothed', 'total_deaths', 'new_deaths',\n",
              "       'new_deaths_smoothed', 'total_cases_per_million',\n",
              "       'new_cases_per_million', 'new_cases_smoothed_per_million',\n",
              "       'total_deaths_per_million', 'new_deaths_per_million',\n",
              "       'new_deaths_smoothed_per_million', 'reproduction_rate', 'icu_patients',\n",
              "       'icu_patients_per_million', 'hosp_patients',\n",
              "       'hosp_patients_per_million', 'weekly_icu_admissions',\n",
              "       'weekly_icu_admissions_per_million', 'weekly_hosp_admissions',\n",
              "       'weekly_hosp_admissions_per_million', 'new_tests', 'total_tests',\n",
              "       'total_tests_per_thousand', 'new_tests_per_thousand',\n",
              "       'new_tests_smoothed', 'new_tests_smoothed_per_thousand',\n",
              "       'positive_rate', 'tests_per_case', 'tests_units', 'total_vaccinations',\n",
              "       'people_vaccinated', 'people_fully_vaccinated', 'total_boosters',\n",
              "       'new_vaccinations', 'new_vaccinations_smoothed',\n",
              "       'total_vaccinations_per_hundred', 'people_vaccinated_per_hundred',\n",
              "       'people_fully_vaccinated_per_hundred', 'total_boosters_per_hundred',\n",
              "       'new_vaccinations_smoothed_per_million',\n",
              "       'new_people_vaccinated_smoothed',\n",
              "       'new_people_vaccinated_smoothed_per_hundred', 'stringency_index',\n",
              "       'population', 'population_density', 'median_age', 'aged_65_older',\n",
              "       'aged_70_older', 'gdp_per_capita', 'extreme_poverty',\n",
              "       'cardiovasc_death_rate', 'diabetes_prevalence', 'female_smokers',\n",
              "       'male_smokers', 'handwashing_facilities', 'hospital_beds_per_thousand',\n",
              "       'life_expectancy', 'human_development_index',\n",
              "       'excess_mortality_cumulative_absolute', 'excess_mortality_cumulative',\n",
              "       'excess_mortality', 'excess_mortality_cumulative_per_million'],\n",
              "      dtype='object')"
            ]
          },
          "metadata": {},
          "execution_count": 5
        }
      ]
    },
    {
      "cell_type": "markdown",
      "source": [
        "# Valores Ausentes\n",
        "Lá em cima, quando peguei as primeiras e as últimas 5 entradas, reparei alguns valores faltantes. Nesse caso, vamos então validar quais das variáveis estão vazias e quais podemos utilizar para o estudo."
      ],
      "metadata": {
        "id": "eqw4v5OycFfv"
      }
    },
    {
      "cell_type": "code",
      "metadata": {
        "colab": {
          "base_uri": "https://localhost:8080/"
        },
        "id": "oFXKgyUaDb8S",
        "outputId": "a50293bf-5344-489f-dc59-9cc41200335c"
      },
      "source": [
        "# mostar quais variáveis estão ausentes\n",
        "(df.isnull().sum() / df.shape[0]).sort_values(ascending=False)"
      ],
      "execution_count": 6,
      "outputs": [
        {
          "output_type": "execute_result",
          "data": {
            "text/plain": [
              "weekly_icu_admissions                      0.972180\n",
              "weekly_icu_admissions_per_million          0.972180\n",
              "excess_mortality_cumulative_per_million    0.966003\n",
              "excess_mortality                           0.966003\n",
              "excess_mortality_cumulative_absolute       0.966003\n",
              "                                             ...   \n",
              "total_cases                                0.018101\n",
              "population                                 0.006592\n",
              "date                                       0.000000\n",
              "location                                   0.000000\n",
              "iso_code                                   0.000000\n",
              "Length: 67, dtype: float64"
            ]
          },
          "metadata": {},
          "execution_count": 6
        }
      ]
    },
    {
      "cell_type": "markdown",
      "source": [
        "Como uma primeira manipulação de dado, vou transformar os valores da coluna `date` para `datetime`.\n"
      ],
      "metadata": {
        "id": "panIif6kR6nw"
      }
    },
    {
      "cell_type": "code",
      "metadata": {
        "id": "PBeJvVdcEQK5"
      },
      "source": [
        "# converter date para datetime\n",
        "df.date = pd.to_datetime(df.date)"
      ],
      "execution_count": 7,
      "outputs": []
    },
    {
      "cell_type": "markdown",
      "source": [
        "E em seguida, deixei o código abaixo para identificar qual é a data mais recente da base. (Dia atual -1)"
      ],
      "metadata": {
        "id": "iArr-BzVgDW4"
      }
    },
    {
      "cell_type": "code",
      "source": [
        "#Separar data mais recente de países com mais casos e mortes.\n",
        "data_recente = (df.date).sort_values(ascending=False).head(1)\n",
        "df_str = pd.Series.to_string(data_recente)\n",
        "data = df_str.split()\n",
        "data[1]"
      ],
      "metadata": {
        "colab": {
          "base_uri": "https://localhost:8080/",
          "height": 36
        },
        "id": "dnyUJldoepDz",
        "outputId": "1632d7c0-a6a3-482a-a6a7-98fe72092589"
      },
      "execution_count": 8,
      "outputs": [
        {
          "output_type": "execute_result",
          "data": {
            "application/vnd.google.colaboratory.intrinsic+json": {
              "type": "string"
            },
            "text/plain": [
              "'2022-01-24'"
            ]
          },
          "metadata": {},
          "execution_count": 8
        }
      ]
    },
    {
      "cell_type": "markdown",
      "source": [
        "Partindo para a primeira análise, quero saber quais são os 5 principais países com mais casos de Covid registrados até o momento. Filtrando então pela variável alocada com a data recente, preciso ordenar de forma ascendente a variável `total_cases` e puxar também a variável `location`:"
      ],
      "metadata": {
        "id": "ZR0SgjbmUDrD"
      }
    },
    {
      "cell_type": "code",
      "metadata": {
        "colab": {
          "base_uri": "https://localhost:8080/",
          "height": 206
        },
        "id": "Y4Pu8r5lEqk3",
        "outputId": "cdd32e5e-ab43-409c-970d-b0afb466a69a"
      },
      "source": [
        "# mostrar um ranking de total de casos por país\n",
        "df.loc[df.date == data[1], ['location', 'total_cases']].sort_values(by=\"total_cases\", ascending=False)[8:13]"
      ],
      "execution_count": 9,
      "outputs": [
        {
          "output_type": "execute_result",
          "data": {
            "text/html": [
              "\n",
              "  <div id=\"df-ede8dec8-ec3e-41e9-ab1b-75302ada9e37\">\n",
              "    <div class=\"colab-df-container\">\n",
              "      <div>\n",
              "<style scoped>\n",
              "    .dataframe tbody tr th:only-of-type {\n",
              "        vertical-align: middle;\n",
              "    }\n",
              "\n",
              "    .dataframe tbody tr th {\n",
              "        vertical-align: top;\n",
              "    }\n",
              "\n",
              "    .dataframe thead th {\n",
              "        text-align: right;\n",
              "    }\n",
              "</style>\n",
              "<table border=\"1\" class=\"dataframe\">\n",
              "  <thead>\n",
              "    <tr style=\"text-align: right;\">\n",
              "      <th></th>\n",
              "      <th>location</th>\n",
              "      <th>total_cases</th>\n",
              "    </tr>\n",
              "  </thead>\n",
              "  <tbody>\n",
              "    <tr>\n",
              "      <th>149161</th>\n",
              "      <td>United States</td>\n",
              "      <td>71708189.0</td>\n",
              "    </tr>\n",
              "    <tr>\n",
              "      <th>131642</th>\n",
              "      <td>South America</td>\n",
              "      <td>46022582.0</td>\n",
              "    </tr>\n",
              "    <tr>\n",
              "      <th>66532</th>\n",
              "      <td>India</td>\n",
              "      <td>39799202.0</td>\n",
              "    </tr>\n",
              "    <tr>\n",
              "      <th>20820</th>\n",
              "      <td>Brazil</td>\n",
              "      <td>24142032.0</td>\n",
              "    </tr>\n",
              "    <tr>\n",
              "      <th>51580</th>\n",
              "      <td>France</td>\n",
              "      <td>16852414.0</td>\n",
              "    </tr>\n",
              "  </tbody>\n",
              "</table>\n",
              "</div>\n",
              "      <button class=\"colab-df-convert\" onclick=\"convertToInteractive('df-ede8dec8-ec3e-41e9-ab1b-75302ada9e37')\"\n",
              "              title=\"Convert this dataframe to an interactive table.\"\n",
              "              style=\"display:none;\">\n",
              "        \n",
              "  <svg xmlns=\"http://www.w3.org/2000/svg\" height=\"24px\"viewBox=\"0 0 24 24\"\n",
              "       width=\"24px\">\n",
              "    <path d=\"M0 0h24v24H0V0z\" fill=\"none\"/>\n",
              "    <path d=\"M18.56 5.44l.94 2.06.94-2.06 2.06-.94-2.06-.94-.94-2.06-.94 2.06-2.06.94zm-11 1L8.5 8.5l.94-2.06 2.06-.94-2.06-.94L8.5 2.5l-.94 2.06-2.06.94zm10 10l.94 2.06.94-2.06 2.06-.94-2.06-.94-.94-2.06-.94 2.06-2.06.94z\"/><path d=\"M17.41 7.96l-1.37-1.37c-.4-.4-.92-.59-1.43-.59-.52 0-1.04.2-1.43.59L10.3 9.45l-7.72 7.72c-.78.78-.78 2.05 0 2.83L4 21.41c.39.39.9.59 1.41.59.51 0 1.02-.2 1.41-.59l7.78-7.78 2.81-2.81c.8-.78.8-2.07 0-2.86zM5.41 20L4 18.59l7.72-7.72 1.47 1.35L5.41 20z\"/>\n",
              "  </svg>\n",
              "      </button>\n",
              "      \n",
              "  <style>\n",
              "    .colab-df-container {\n",
              "      display:flex;\n",
              "      flex-wrap:wrap;\n",
              "      gap: 12px;\n",
              "    }\n",
              "\n",
              "    .colab-df-convert {\n",
              "      background-color: #E8F0FE;\n",
              "      border: none;\n",
              "      border-radius: 50%;\n",
              "      cursor: pointer;\n",
              "      display: none;\n",
              "      fill: #1967D2;\n",
              "      height: 32px;\n",
              "      padding: 0 0 0 0;\n",
              "      width: 32px;\n",
              "    }\n",
              "\n",
              "    .colab-df-convert:hover {\n",
              "      background-color: #E2EBFA;\n",
              "      box-shadow: 0px 1px 2px rgba(60, 64, 67, 0.3), 0px 1px 3px 1px rgba(60, 64, 67, 0.15);\n",
              "      fill: #174EA6;\n",
              "    }\n",
              "\n",
              "    [theme=dark] .colab-df-convert {\n",
              "      background-color: #3B4455;\n",
              "      fill: #D2E3FC;\n",
              "    }\n",
              "\n",
              "    [theme=dark] .colab-df-convert:hover {\n",
              "      background-color: #434B5C;\n",
              "      box-shadow: 0px 1px 3px 1px rgba(0, 0, 0, 0.15);\n",
              "      filter: drop-shadow(0px 1px 2px rgba(0, 0, 0, 0.3));\n",
              "      fill: #FFFFFF;\n",
              "    }\n",
              "  </style>\n",
              "\n",
              "      <script>\n",
              "        const buttonEl =\n",
              "          document.querySelector('#df-ede8dec8-ec3e-41e9-ab1b-75302ada9e37 button.colab-df-convert');\n",
              "        buttonEl.style.display =\n",
              "          google.colab.kernel.accessAllowed ? 'block' : 'none';\n",
              "\n",
              "        async function convertToInteractive(key) {\n",
              "          const element = document.querySelector('#df-ede8dec8-ec3e-41e9-ab1b-75302ada9e37');\n",
              "          const dataTable =\n",
              "            await google.colab.kernel.invokeFunction('convertToInteractive',\n",
              "                                                     [key], {});\n",
              "          if (!dataTable) return;\n",
              "\n",
              "          const docLinkHtml = 'Like what you see? Visit the ' +\n",
              "            '<a target=\"_blank\" href=https://colab.research.google.com/notebooks/data_table.ipynb>data table notebook</a>'\n",
              "            + ' to learn more about interactive tables.';\n",
              "          element.innerHTML = '';\n",
              "          dataTable['output_type'] = 'display_data';\n",
              "          await google.colab.output.renderOutput(dataTable, element);\n",
              "          const docLink = document.createElement('div');\n",
              "          docLink.innerHTML = docLinkHtml;\n",
              "          element.appendChild(docLink);\n",
              "        }\n",
              "      </script>\n",
              "    </div>\n",
              "  </div>\n",
              "  "
            ],
            "text/plain": [
              "             location  total_cases\n",
              "149161  United States   71708189.0\n",
              "131642  South America   46022582.0\n",
              "66532           India   39799202.0\n",
              "20820          Brazil   24142032.0\n",
              "51580          France   16852414.0"
            ]
          },
          "metadata": {},
          "execution_count": 9
        }
      ]
    },
    {
      "cell_type": "markdown",
      "source": [
        "Para saber quais são os países que concentram o maior número de mortes pela doença, aplico então a mesma lógica, trocando somente pela variável `total_deaths`:"
      ],
      "metadata": {
        "id": "hUiv2gOIVIER"
      }
    },
    {
      "cell_type": "code",
      "metadata": {
        "colab": {
          "base_uri": "https://localhost:8080/",
          "height": 206
        },
        "id": "3ejbnsy3FPCv",
        "outputId": "f4184c6f-8aca-4af3-e89d-842f33f24081"
      },
      "source": [
        "# mostrar um ranking de total de mortes por país\n",
        "df.loc[df.date == data[1], ['location', 'total_deaths']].sort_values(by=\"total_deaths\", ascending=False)[7:12]"
      ],
      "execution_count": 10,
      "outputs": [
        {
          "output_type": "execute_result",
          "data": {
            "text/html": [
              "\n",
              "  <div id=\"df-ec2716eb-55df-4494-a051-7404f89e402c\">\n",
              "    <div class=\"colab-df-container\">\n",
              "      <div>\n",
              "<style scoped>\n",
              "    .dataframe tbody tr th:only-of-type {\n",
              "        vertical-align: middle;\n",
              "    }\n",
              "\n",
              "    .dataframe tbody tr th {\n",
              "        vertical-align: top;\n",
              "    }\n",
              "\n",
              "    .dataframe thead th {\n",
              "        text-align: right;\n",
              "    }\n",
              "</style>\n",
              "<table border=\"1\" class=\"dataframe\">\n",
              "  <thead>\n",
              "    <tr style=\"text-align: right;\">\n",
              "      <th></th>\n",
              "      <th>location</th>\n",
              "      <th>total_deaths</th>\n",
              "    </tr>\n",
              "  </thead>\n",
              "  <tbody>\n",
              "    <tr>\n",
              "      <th>131642</th>\n",
              "      <td>South America</td>\n",
              "      <td>1205565.0</td>\n",
              "    </tr>\n",
              "    <tr>\n",
              "      <th>48042</th>\n",
              "      <td>European Union</td>\n",
              "      <td>943421.0</td>\n",
              "    </tr>\n",
              "    <tr>\n",
              "      <th>149161</th>\n",
              "      <td>United States</td>\n",
              "      <td>868503.0</td>\n",
              "    </tr>\n",
              "    <tr>\n",
              "      <th>20820</th>\n",
              "      <td>Brazil</td>\n",
              "      <td>623636.0</td>\n",
              "    </tr>\n",
              "    <tr>\n",
              "      <th>66532</th>\n",
              "      <td>India</td>\n",
              "      <td>490462.0</td>\n",
              "    </tr>\n",
              "  </tbody>\n",
              "</table>\n",
              "</div>\n",
              "      <button class=\"colab-df-convert\" onclick=\"convertToInteractive('df-ec2716eb-55df-4494-a051-7404f89e402c')\"\n",
              "              title=\"Convert this dataframe to an interactive table.\"\n",
              "              style=\"display:none;\">\n",
              "        \n",
              "  <svg xmlns=\"http://www.w3.org/2000/svg\" height=\"24px\"viewBox=\"0 0 24 24\"\n",
              "       width=\"24px\">\n",
              "    <path d=\"M0 0h24v24H0V0z\" fill=\"none\"/>\n",
              "    <path d=\"M18.56 5.44l.94 2.06.94-2.06 2.06-.94-2.06-.94-.94-2.06-.94 2.06-2.06.94zm-11 1L8.5 8.5l.94-2.06 2.06-.94-2.06-.94L8.5 2.5l-.94 2.06-2.06.94zm10 10l.94 2.06.94-2.06 2.06-.94-2.06-.94-.94-2.06-.94 2.06-2.06.94z\"/><path d=\"M17.41 7.96l-1.37-1.37c-.4-.4-.92-.59-1.43-.59-.52 0-1.04.2-1.43.59L10.3 9.45l-7.72 7.72c-.78.78-.78 2.05 0 2.83L4 21.41c.39.39.9.59 1.41.59.51 0 1.02-.2 1.41-.59l7.78-7.78 2.81-2.81c.8-.78.8-2.07 0-2.86zM5.41 20L4 18.59l7.72-7.72 1.47 1.35L5.41 20z\"/>\n",
              "  </svg>\n",
              "      </button>\n",
              "      \n",
              "  <style>\n",
              "    .colab-df-container {\n",
              "      display:flex;\n",
              "      flex-wrap:wrap;\n",
              "      gap: 12px;\n",
              "    }\n",
              "\n",
              "    .colab-df-convert {\n",
              "      background-color: #E8F0FE;\n",
              "      border: none;\n",
              "      border-radius: 50%;\n",
              "      cursor: pointer;\n",
              "      display: none;\n",
              "      fill: #1967D2;\n",
              "      height: 32px;\n",
              "      padding: 0 0 0 0;\n",
              "      width: 32px;\n",
              "    }\n",
              "\n",
              "    .colab-df-convert:hover {\n",
              "      background-color: #E2EBFA;\n",
              "      box-shadow: 0px 1px 2px rgba(60, 64, 67, 0.3), 0px 1px 3px 1px rgba(60, 64, 67, 0.15);\n",
              "      fill: #174EA6;\n",
              "    }\n",
              "\n",
              "    [theme=dark] .colab-df-convert {\n",
              "      background-color: #3B4455;\n",
              "      fill: #D2E3FC;\n",
              "    }\n",
              "\n",
              "    [theme=dark] .colab-df-convert:hover {\n",
              "      background-color: #434B5C;\n",
              "      box-shadow: 0px 1px 3px 1px rgba(0, 0, 0, 0.15);\n",
              "      filter: drop-shadow(0px 1px 2px rgba(0, 0, 0, 0.3));\n",
              "      fill: #FFFFFF;\n",
              "    }\n",
              "  </style>\n",
              "\n",
              "      <script>\n",
              "        const buttonEl =\n",
              "          document.querySelector('#df-ec2716eb-55df-4494-a051-7404f89e402c button.colab-df-convert');\n",
              "        buttonEl.style.display =\n",
              "          google.colab.kernel.accessAllowed ? 'block' : 'none';\n",
              "\n",
              "        async function convertToInteractive(key) {\n",
              "          const element = document.querySelector('#df-ec2716eb-55df-4494-a051-7404f89e402c');\n",
              "          const dataTable =\n",
              "            await google.colab.kernel.invokeFunction('convertToInteractive',\n",
              "                                                     [key], {});\n",
              "          if (!dataTable) return;\n",
              "\n",
              "          const docLinkHtml = 'Like what you see? Visit the ' +\n",
              "            '<a target=\"_blank\" href=https://colab.research.google.com/notebooks/data_table.ipynb>data table notebook</a>'\n",
              "            + ' to learn more about interactive tables.';\n",
              "          element.innerHTML = '';\n",
              "          dataTable['output_type'] = 'display_data';\n",
              "          await google.colab.output.renderOutput(dataTable, element);\n",
              "          const docLink = document.createElement('div');\n",
              "          docLink.innerHTML = docLinkHtml;\n",
              "          element.appendChild(docLink);\n",
              "        }\n",
              "      </script>\n",
              "    </div>\n",
              "  </div>\n",
              "  "
            ],
            "text/plain": [
              "              location  total_deaths\n",
              "131642   South America     1205565.0\n",
              "48042   European Union      943421.0\n",
              "149161   United States      868503.0\n",
              "20820           Brazil      623636.0\n",
              "66532            India      490462.0"
            ]
          },
          "metadata": {},
          "execution_count": 10
        }
      ]
    },
    {
      "cell_type": "markdown",
      "source": [
        "No intuito de deixar esses resultados mais visuais, resolvi plotar um gráfico de barras para cada um:"
      ],
      "metadata": {
        "id": "Ql3osBk5V8dw"
      }
    },
    {
      "cell_type": "code",
      "source": [
        "#plotar o gráfico com o ranking de países com mais casos confirmados pelo mundo\n",
        "top5 = df.loc[df.date == data[1], ['location', 'total_cases']].sort_values(by=\"total_cases\", ascending=False)[8:13]\n",
        "\n",
        "fig, ax = plt.subplots(figsize=(10,5))\n",
        "\n",
        "top5.plot(x = \"location\", y = \"total_cases\", kind = 'barh', ax=ax)\n",
        "\n",
        "ax.set_title(\"5 Países com mais Casos de Covid\")\n",
        "ax.set_ylabel(\"País\")\n",
        "ax.set_xlabel(\"Número de Casos\")\n",
        "\n",
        "plt.tight_layout()"
      ],
      "metadata": {
        "colab": {
          "base_uri": "https://localhost:8080/",
          "height": 368
        },
        "id": "qNSds5UUWpt4",
        "outputId": "1634ec4a-d530-4807-eb26-47715d2de2f6"
      },
      "execution_count": 11,
      "outputs": [
        {
          "output_type": "display_data",
          "data": {
            "image/png": "[encoded data removed]",
            "text/plain": [
              "<Figure size 720x360 with 1 Axes>"
            ]
          },
          "metadata": {
            "needs_background": "light"
          }
        }
      ]
    },
    {
      "cell_type": "code",
      "metadata": {
        "colab": {
          "base_uri": "https://localhost:8080/",
          "height": 368
        },
        "id": "ee5dg3kMFXCD",
        "outputId": "360055c2-cb5b-44b9-b576-0e0b77d6f972"
      },
      "source": [
        "#plotar o gráfico com o ranking de países com mais mortes por Covid pelo mundo\n",
        "top5 = df.loc[df.date == data[1], ['location', 'total_deaths']].sort_values(by=\"total_deaths\", ascending=False)[8:13]\n",
        "\n",
        "fig, ax = plt.subplots(figsize=(10,5))\n",
        "\n",
        "top5.plot(x = \"location\", y = \"total_deaths\", kind = 'barh', ax=ax)\n",
        "\n",
        "ax.set_title(\"5 Países com mais mortes\")\n",
        "ax.set_ylabel(\"País\")\n",
        "ax.set_xlabel(\"Número de mortes\")\n",
        "\n",
        "plt.tight_layout()"
      ],
      "execution_count": 12,
      "outputs": [
        {
          "output_type": "display_data",
          "data": {
            "image/png": "[encoded data removed]",
            "text/plain": [
              "<Figure size 720x360 with 1 Axes>"
            ]
          },
          "metadata": {
            "needs_background": "light"
          }
        }
      ]
    },
    {
      "cell_type": "markdown",
      "source": [
        "Podemos plotar também como foi a evolução de transmissão de Covid com o decorrer dos dias."
      ],
      "metadata": {
        "id": "Z_86Wwc1fqjz"
      }
    },
    {
      "cell_type": "code",
      "metadata": {
        "colab": {
          "base_uri": "https://localhost:8080/",
          "height": 297
        },
        "id": "uvcZtvg5zzP4",
        "outputId": "5b128a02-8d43-4167-abef-5cc5baeaaf98"
      },
      "source": [
        "#plotar o gráfico com evolução de casos confirmandos pelo mundo\n",
        "fig, ax = plt.subplots()\n",
        "\n",
        "df.loc[df.location == \"World\", \"total_cases\"].reset_index(drop=True).plot()\n",
        "\n",
        "ax.set_title(\"Evolução do total de casos de COVID-19 no mundo\")\n",
        "ax.set_ylabel(\"Casos Confirmados\")\n",
        "ax.set_xlabel(\"Número de dias\")\n",
        "\n",
        "plt.tight_layout()"
      ],
      "execution_count": 13,
      "outputs": [
        {
          "output_type": "display_data",
          "data": {
            "image/png": "[encoded data removed]",
            "text/plain": [
              "<Figure size 432x288 with 1 Axes>"
            ]
          },
          "metadata": {
            "needs_background": "light"
          }
        }
      ]
    },
    {
      "cell_type": "code",
      "source": [
        "#plotar o gráfico com evolução de mortes por Covid pelo mundo\n",
        "fig, ax = plt.subplots()\n",
        "\n",
        "df.loc[df.location == \"World\", \"total_deaths\"].reset_index(drop=True).plot()\n",
        "\n",
        "ax.set_title(\"Evolução de mortes por COVID-19 no mundo\")\n",
        "ax.set_ylabel(\"Mortes confirmadas\")\n",
        "ax.set_xlabel(\"Número de dias\")\n",
        "\n",
        "plt.tight_layout()"
      ],
      "metadata": {
        "colab": {
          "base_uri": "https://localhost:8080/",
          "height": 297
        },
        "id": "9XABC37jgYlG",
        "outputId": "d0855934-def3-4d87-c79b-e8d3dc7c4359"
      },
      "execution_count": 14,
      "outputs": [
        {
          "output_type": "display_data",
          "data": {
            "image/png": "[encoded data removed]",
            "text/plain": [
              "<Figure size 432x288 with 1 Axes>"
            ]
          },
          "metadata": {
            "needs_background": "light"
          }
        }
      ]
    },
    {
      "cell_type": "markdown",
      "source": [
        "Usando a variável `people_vaccinated` podemos dar uma olhada quais países hoje estão a frente do processo de imunização."
      ],
      "metadata": {
        "id": "zyq2S7Kpl7Iq"
      }
    },
    {
      "cell_type": "code",
      "source": [
        "#plotar o gráfico com o ranking de países com mais doses de vacinas aplicadas\n",
        "top5 = df.loc[df.date == data[1], ['location', 'people_vaccinated']].sort_values(by=\"people_vaccinated\", ascending=False)[10:15]\n",
        "\n",
        "fig, ax = plt.subplots(figsize=(10,5))\n",
        "\n",
        "top5.plot(x = \"location\", y = \"people_vaccinated\", kind = 'barh', ax=ax)\n",
        "\n",
        "ax.set_title(\"5 Países com mais pessoas vacinadas\")\n",
        "ax.set_ylabel(\"País\")\n",
        "ax.set_xlabel(\"Número de vacinas aplicadas\")\n",
        "\n",
        "plt.tight_layout()"
      ],
      "metadata": {
        "colab": {
          "base_uri": "https://localhost:8080/",
          "height": 368
        },
        "id": "pDfKv1jMsEj7",
        "outputId": "c9321ae2-b072-4a8d-e5ac-86c505e4884c"
      },
      "execution_count": 18,
      "outputs": [
        {
          "output_type": "display_data",
          "data": {
            "image/png": "[encoded data removed]",
            "text/plain": [
              "<Figure size 720x360 with 1 Axes>"
            ]
          },
          "metadata": {
            "needs_background": "light"
          }
        }
      ]
    },
    {
      "cell_type": "markdown",
      "source": [
        "# E no Brasil ?\n",
        "\n",
        "Agora quero dar uma olhada melhor focando apenas no nosso país. Mas calma, que não precisamos importar novamente a base ou as bibliotecas.\n",
        "\n",
        "Como na base que estavamos usando já possui dados sobre o Brasil, basta então criar uma cópia, filtrando apenas as entradas que a variável `location` esteja preenchida com o nosso país."
      ],
      "metadata": {
        "id": "ezFjXzrPf0xT"
      }
    },
    {
      "cell_type": "code",
      "metadata": {
        "id": "UDQA502_hAwI"
      },
      "source": [
        "# criar uma cópia da base com dados do Brasil\n",
        "df_brasil = df.loc[df.location == \"Brazil\"].copy()"
      ],
      "execution_count": 20,
      "outputs": []
    },
    {
      "cell_type": "markdown",
      "source": [
        "Infelizmente, o Brasil foi um dos países que a contaminação foi mais efetiva, deixando tanto a quantidade de casos confirmados quanto o de mortes sempre elevados. \n",
        "\n",
        "E quando foi registrada a primeira morte por covid aqui no Brasil ?"
      ],
      "metadata": {
        "id": "KkNnLAiKixJZ"
      }
    },
    {
      "cell_type": "code",
      "metadata": {
        "id": "Dab_z6OoIhzb",
        "colab": {
          "base_uri": "https://localhost:8080/"
        },
        "outputId": "f7e6b937-d5db-447f-8e25-b596eb37df95"
      },
      "source": [
        "data_atualizada1 = df_brasil.loc[df_brasil.total_deaths==1, 'date']\n",
        "df_str1 = pd.Series.to_string(data_atualizada1)\n",
        "separar1 = df_str1.split()\n",
        "print(f'A primeira morte no Brasil foi registrada em: {separar1[1]}')"
      ],
      "execution_count": 21,
      "outputs": [
        {
          "output_type": "stream",
          "name": "stdout",
          "text": [
            "A primeira morte no Brasil foi registrada em: 2020-03-17\n"
          ]
        }
      ]
    },
    {
      "cell_type": "markdown",
      "source": [
        "E quanto tempo passou desde o primeiro caso confirmado até a primeira primeira morte ?"
      ],
      "metadata": {
        "id": "6VljZ02TkLHD"
      }
    },
    {
      "cell_type": "code",
      "metadata": {
        "colab": {
          "base_uri": "https://localhost:8080/"
        },
        "id": "G1s9QHAM1Udp",
        "outputId": "67c02bc4-0607-4dfe-e4e8-46893539a05a"
      },
      "source": [
        "primeiro_caso = df_brasil.loc[df_brasil.total_cases==1, 'date']\n",
        "df_str2 = pd.Series.to_string(primeiro_caso.head(1))\n",
        "separar2 = df_str2.split()\n",
        "date1 = datetime.datetime.strptime(separar1[1], '%Y-%m-%d').date()\n",
        "date2 = datetime.datetime.strptime(separar2[1], '%Y-%m-%d').date()\n",
        "register_fs_death = date1 - date2\n",
        "print(f'Considerando o primeiro caso de COVID-19 registrado, se passaram {register_fs_death.days} dias até registrarmos a primeira morte.')"
      ],
      "execution_count": 22,
      "outputs": [
        {
          "output_type": "stream",
          "name": "stdout",
          "text": [
            "Considerando o primeiro caso de COVID-19 registrado, se passaram 20 dias até registrarmos a primeira morte.\n"
          ]
        }
      ]
    },
    {
      "cell_type": "markdown",
      "source": [
        "Como sou um pessoa muito visual, resolvi trazer os gráficos de evolução de casos e mortes por Covid no Brasil, com o decorrer dos dias."
      ],
      "metadata": {
        "id": "pBs42U7Okbe6"
      }
    },
    {
      "cell_type": "code",
      "metadata": {
        "colab": {
          "base_uri": "https://localhost:8080/",
          "height": 441
        },
        "id": "b0oaRBN7-VAR",
        "outputId": "80765f9c-c093-4b1d-c352-d17d5f476fd0"
      },
      "source": [
        "#plotar o gráfico com evolução de casos confirmados no Brasil\n",
        "fig, ax = plt.subplots(figsize=(10,6))\n",
        "df_brasil.loc[df_brasil.location == 'Brazil', 'total_cases'].reset_index(drop=True).plot(kind='line', ax=ax)\n",
        "ax.set_title(\"Evolução do total de casos de COVID-19 no Brasil\")\n",
        "ax.set_xlabel('Número de Dias')\n",
        "ax.set_ylabel('Quantidade de Casos')\n",
        "plt.tight_layout()"
      ],
      "execution_count": 23,
      "outputs": [
        {
          "output_type": "display_data",
          "data": {
            "image/png": "[encoded data removed]",
            "text/plain": [
              "<Figure size 720x432 with 1 Axes>"
            ]
          },
          "metadata": {
            "needs_background": "light"
          }
        }
      ]
    },
    {
      "cell_type": "code",
      "metadata": {
        "colab": {
          "base_uri": "https://localhost:8080/",
          "height": 441
        },
        "id": "CzXed0uj-ZLH",
        "outputId": "2a37f341-3189-4364-b53e-30939d0f1ef5"
      },
      "source": [
        "#plotar o gráfico com evolução de mortes no Brasil\n",
        "fig, ax = plt.subplots(figsize=(10,6))\n",
        "df_brasil.loc[df_brasil.location == 'Brazil', 'total_deaths'].reset_index(drop=True).plot(kind='line', ax=ax)\n",
        "ax.set_title(\"Evolução do total de mortes por COVID-19 no Brasil\")\n",
        "ax.set_xlabel('Número de Dias')\n",
        "ax.set_ylabel('Quantidade de Casos')\n",
        "plt.tight_layout()"
      ],
      "execution_count": 24,
      "outputs": [
        {
          "output_type": "display_data",
          "data": {
            "image/png": "[encoded data removed]",
            "text/plain": [
              "<Figure size 720x432 with 1 Axes>"
            ]
          },
          "metadata": {
            "needs_background": "light"
          }
        }
      ]
    },
    {
      "cell_type": "markdown",
      "source": [
        "E para finalizar, queria ver como foi a evolução de doses aplicadas das vacinas aqui pelo Brasil:"
      ],
      "metadata": {
        "id": "orSvEtw6t_we"
      }
    },
    {
      "cell_type": "code",
      "source": [
        "#plotar o gráfico com evolução de vacinas aplicadas\n",
        "fig, ax = plt.subplots(figsize=(10,6))\n",
        "df_brasil.loc[df_brasil.location == 'Brazil', 'people_vaccinated'].reset_index(drop=True).plot(kind='line', ax=ax)\n",
        "ax.set_title(\"Evolução de vacinas aplicadas no Brasil\")\n",
        "ax.set_xlabel('Número de Dias')\n",
        "ax.set_ylabel('Quantidade de vacinas aplicadas')\n",
        "plt.tight_layout()"
      ],
      "metadata": {
        "colab": {
          "base_uri": "https://localhost:8080/",
          "height": 441
        },
        "id": "nEyN2fm4teA8",
        "outputId": "98d30542-922e-4c59-f376-c8dec640a57d"
      },
      "execution_count": 25,
      "outputs": [
        {
          "output_type": "display_data",
          "data": {
            "image/png": "[encoded data removed]",
            "text/plain": [
              "<Figure size 720x432 with 1 Axes>"
            ]
          },
          "metadata": {
            "needs_background": "light"
          }
        }
      ]
    },
    {
      "cell_type": "markdown",
      "metadata": {
        "id": "LCsiXvM3BcsO"
      },
      "source": [
        "## Conclusão\n",
        "\n",
        "Apesar desse documento enorme, a intenção desse estudo era de ser algo inicial, para entender como a transmissão do Covid 19 afetou o mundo, e de forma especifica, o Brasil também. Mesmo que já tenha se passado 2 anos de pandemia e com a campanha de vacinação consideravelmente rápida, o despreparo do governo refletiu nos números de pessoas que testaram positivo e, infelizmente na quantidade de pessoas que perderam a vida por conta do vírus.\n",
        "\n",
        "Outro ponto que temos que ter em mente é o surgimento das novas variantes da doença que além de serem altamente transmissíveis, faz o processo de imunização ganhar novas etapas.\n",
        "\n",
        "Ainda que a visão é um pouco negativa, devemos ter esperança de que o cenário será revertido, os países e seus governantes levem a sério o rumo da imunização com a comunidade cientifica e que o Covid 19 seja controlado de forma efetiva."
      ]
    }
  ]
}